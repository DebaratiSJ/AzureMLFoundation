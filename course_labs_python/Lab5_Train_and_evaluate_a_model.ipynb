{
 "cells": [
  {
   "cell_type": "code",
   "execution_count": 1,
   "metadata": {},
   "outputs": [],
   "source": [
    "import pandas as pd\n",
    "import numpy as np  \n",
    "import matplotlib.pyplot as plt  \n",
    "#import seaborn as seabornInstance \n",
    "#from sklearn.model_selection import train_test_split \n",
    "from sklearn.linear_model import LogisticRegression\n",
    "import sklearn.metrics as metrics\n",
    "%matplotlib inline"
   ]
  },
  {
   "cell_type": "markdown",
   "metadata": {},
   "source": [
    "Using a predownloaded dataset instead of the link as the dataset is huge and there has been some download issues"
   ]
  },
  {
   "cell_type": "code",
   "execution_count": 2,
   "metadata": {},
   "outputs": [],
   "source": [
    "#flightdata = pd.read_csv(\"https://introtomlsampledata.blob.core.windows.net/data/flightdelays/flightdelays.csv\")\n",
    "flightdata = pd.read_csv(\"data/flightdelays.csv\")"
   ]
  },
  {
   "cell_type": "code",
   "execution_count": 3,
   "metadata": {},
   "outputs": [
    {
     "name": "stdout",
     "output_type": "stream",
     "text": [
      "(1427653, 37)\n"
     ]
    },
    {
     "data": {
      "text/plain": [
       "Index(['Month', 'DayofMonth', 'DayOfWeek', 'Carrier', 'OriginAirportID',\n",
       "       'DestAirportID', 'CRSDepTime', 'CRSArrTime', 'ArrDel15', 'Year',\n",
       "       'AdjustedMonth', 'AdjustedDay', 'AirportID', 'AdjustedHour', 'Timezone',\n",
       "       'Visibility', 'DryBulbFarenheit', 'DryBulbCelsius', 'DewPointFarenheit',\n",
       "       'DewPointCelsius', 'RelativeHumidity', 'WindSpeed', 'Altimeter',\n",
       "       'Year_R', 'AdjustedMonth_R', 'AdjustedDay_R', 'AirportID_R',\n",
       "       'AdjustedHour_R', 'Timezone_R', 'Visibility_R', 'DryBulbFarenheit_R',\n",
       "       'DryBulbCelsius_R', 'DewPointFarenheit_R', 'DewPointCelsius_R',\n",
       "       'RelativeHumidity_R', 'WindSpeed_R', 'Altimeter_R'],\n",
       "      dtype='object')"
      ]
     },
     "execution_count": 3,
     "metadata": {},
     "output_type": "execute_result"
    }
   ],
   "source": [
    "print(flightdata.shape)\n",
    "flightdata.columns"
   ]
  },
  {
   "cell_type": "code",
   "execution_count": 4,
   "metadata": {},
   "outputs": [
    {
     "data": {
      "text/plain": [
       "Month                    int64\n",
       "DayofMonth               int64\n",
       "DayOfWeek                int64\n",
       "Carrier                 object\n",
       "OriginAirportID          int64\n",
       "DestAirportID            int64\n",
       "CRSDepTime               int64\n",
       "CRSArrTime               int64\n",
       "ArrDel15                 int64\n",
       "Year                     int64\n",
       "AdjustedMonth            int64\n",
       "AdjustedDay              int64\n",
       "AirportID                int64\n",
       "AdjustedHour             int64\n",
       "Timezone                 int64\n",
       "Visibility             float64\n",
       "DryBulbFarenheit         int64\n",
       "DryBulbCelsius         float64\n",
       "DewPointFarenheit        int64\n",
       "DewPointCelsius        float64\n",
       "RelativeHumidity         int64\n",
       "WindSpeed                int64\n",
       "Altimeter              float64\n",
       "Year_R                   int64\n",
       "AdjustedMonth_R          int64\n",
       "AdjustedDay_R            int64\n",
       "AirportID_R              int64\n",
       "AdjustedHour_R           int64\n",
       "Timezone_R               int64\n",
       "Visibility_R           float64\n",
       "DryBulbFarenheit_R       int64\n",
       "DryBulbCelsius_R       float64\n",
       "DewPointFarenheit_R      int64\n",
       "DewPointCelsius_R      float64\n",
       "RelativeHumidity_R       int64\n",
       "WindSpeed_R              int64\n",
       "Altimeter_R            float64\n",
       "dtype: object"
      ]
     },
     "execution_count": 4,
     "metadata": {},
     "output_type": "execute_result"
    }
   ],
   "source": [
    "flightdata.dtypes"
   ]
  },
  {
   "cell_type": "code",
   "execution_count": 5,
   "metadata": {},
   "outputs": [
    {
     "data": {
      "text/html": [
       "<div>\n",
       "<style scoped>\n",
       "    .dataframe tbody tr th:only-of-type {\n",
       "        vertical-align: middle;\n",
       "    }\n",
       "\n",
       "    .dataframe tbody tr th {\n",
       "        vertical-align: top;\n",
       "    }\n",
       "\n",
       "    .dataframe thead th {\n",
       "        text-align: right;\n",
       "    }\n",
       "</style>\n",
       "<table border=\"1\" class=\"dataframe\">\n",
       "  <thead>\n",
       "    <tr style=\"text-align: right;\">\n",
       "      <th></th>\n",
       "      <th>Month</th>\n",
       "      <th>DayofMonth</th>\n",
       "      <th>DayOfWeek</th>\n",
       "      <th>Carrier</th>\n",
       "      <th>OriginAirportID</th>\n",
       "      <th>DestAirportID</th>\n",
       "      <th>CRSDepTime</th>\n",
       "      <th>CRSArrTime</th>\n",
       "      <th>ArrDel15</th>\n",
       "      <th>Year</th>\n",
       "      <th>...</th>\n",
       "      <th>AdjustedHour_R</th>\n",
       "      <th>Timezone_R</th>\n",
       "      <th>Visibility_R</th>\n",
       "      <th>DryBulbFarenheit_R</th>\n",
       "      <th>DryBulbCelsius_R</th>\n",
       "      <th>DewPointFarenheit_R</th>\n",
       "      <th>DewPointCelsius_R</th>\n",
       "      <th>RelativeHumidity_R</th>\n",
       "      <th>WindSpeed_R</th>\n",
       "      <th>Altimeter_R</th>\n",
       "    </tr>\n",
       "  </thead>\n",
       "  <tbody>\n",
       "    <tr>\n",
       "      <th>0</th>\n",
       "      <td>4</td>\n",
       "      <td>19</td>\n",
       "      <td>5</td>\n",
       "      <td>DL</td>\n",
       "      <td>11433</td>\n",
       "      <td>13303</td>\n",
       "      <td>8</td>\n",
       "      <td>1138</td>\n",
       "      <td>0</td>\n",
       "      <td>2013</td>\n",
       "      <td>...</td>\n",
       "      <td>8</td>\n",
       "      <td>-5</td>\n",
       "      <td>10.0</td>\n",
       "      <td>86</td>\n",
       "      <td>30.0</td>\n",
       "      <td>71</td>\n",
       "      <td>21.7</td>\n",
       "      <td>61</td>\n",
       "      <td>16</td>\n",
       "      <td>30.04</td>\n",
       "    </tr>\n",
       "    <tr>\n",
       "      <th>1</th>\n",
       "      <td>4</td>\n",
       "      <td>19</td>\n",
       "      <td>5</td>\n",
       "      <td>DL</td>\n",
       "      <td>12478</td>\n",
       "      <td>13303</td>\n",
       "      <td>8</td>\n",
       "      <td>1118</td>\n",
       "      <td>0</td>\n",
       "      <td>2013</td>\n",
       "      <td>...</td>\n",
       "      <td>8</td>\n",
       "      <td>-5</td>\n",
       "      <td>10.0</td>\n",
       "      <td>86</td>\n",
       "      <td>30.0</td>\n",
       "      <td>71</td>\n",
       "      <td>21.7</td>\n",
       "      <td>61</td>\n",
       "      <td>16</td>\n",
       "      <td>30.04</td>\n",
       "    </tr>\n",
       "    <tr>\n",
       "      <th>2</th>\n",
       "      <td>4</td>\n",
       "      <td>19</td>\n",
       "      <td>5</td>\n",
       "      <td>DL</td>\n",
       "      <td>12478</td>\n",
       "      <td>13303</td>\n",
       "      <td>8</td>\n",
       "      <td>1118</td>\n",
       "      <td>0</td>\n",
       "      <td>2013</td>\n",
       "      <td>...</td>\n",
       "      <td>8</td>\n",
       "      <td>-5</td>\n",
       "      <td>10.0</td>\n",
       "      <td>86</td>\n",
       "      <td>30.0</td>\n",
       "      <td>71</td>\n",
       "      <td>21.7</td>\n",
       "      <td>61</td>\n",
       "      <td>16</td>\n",
       "      <td>30.04</td>\n",
       "    </tr>\n",
       "    <tr>\n",
       "      <th>3</th>\n",
       "      <td>4</td>\n",
       "      <td>19</td>\n",
       "      <td>5</td>\n",
       "      <td>DL</td>\n",
       "      <td>10397</td>\n",
       "      <td>13303</td>\n",
       "      <td>8</td>\n",
       "      <td>1041</td>\n",
       "      <td>0</td>\n",
       "      <td>2013</td>\n",
       "      <td>...</td>\n",
       "      <td>8</td>\n",
       "      <td>-5</td>\n",
       "      <td>10.0</td>\n",
       "      <td>86</td>\n",
       "      <td>30.0</td>\n",
       "      <td>71</td>\n",
       "      <td>21.7</td>\n",
       "      <td>61</td>\n",
       "      <td>16</td>\n",
       "      <td>30.04</td>\n",
       "    </tr>\n",
       "    <tr>\n",
       "      <th>4</th>\n",
       "      <td>4</td>\n",
       "      <td>19</td>\n",
       "      <td>5</td>\n",
       "      <td>AA</td>\n",
       "      <td>10721</td>\n",
       "      <td>13303</td>\n",
       "      <td>8</td>\n",
       "      <td>1130</td>\n",
       "      <td>0</td>\n",
       "      <td>2013</td>\n",
       "      <td>...</td>\n",
       "      <td>8</td>\n",
       "      <td>-5</td>\n",
       "      <td>10.0</td>\n",
       "      <td>86</td>\n",
       "      <td>30.0</td>\n",
       "      <td>71</td>\n",
       "      <td>21.7</td>\n",
       "      <td>61</td>\n",
       "      <td>16</td>\n",
       "      <td>30.04</td>\n",
       "    </tr>\n",
       "    <tr>\n",
       "      <th>5</th>\n",
       "      <td>4</td>\n",
       "      <td>19</td>\n",
       "      <td>5</td>\n",
       "      <td>EV</td>\n",
       "      <td>11042</td>\n",
       "      <td>13303</td>\n",
       "      <td>8</td>\n",
       "      <td>1126</td>\n",
       "      <td>1</td>\n",
       "      <td>2013</td>\n",
       "      <td>...</td>\n",
       "      <td>8</td>\n",
       "      <td>-5</td>\n",
       "      <td>10.0</td>\n",
       "      <td>86</td>\n",
       "      <td>30.0</td>\n",
       "      <td>71</td>\n",
       "      <td>21.7</td>\n",
       "      <td>61</td>\n",
       "      <td>16</td>\n",
       "      <td>30.04</td>\n",
       "    </tr>\n",
       "    <tr>\n",
       "      <th>6</th>\n",
       "      <td>4</td>\n",
       "      <td>19</td>\n",
       "      <td>5</td>\n",
       "      <td>YV</td>\n",
       "      <td>12264</td>\n",
       "      <td>13303</td>\n",
       "      <td>8</td>\n",
       "      <td>1057</td>\n",
       "      <td>0</td>\n",
       "      <td>2013</td>\n",
       "      <td>...</td>\n",
       "      <td>8</td>\n",
       "      <td>-5</td>\n",
       "      <td>10.0</td>\n",
       "      <td>86</td>\n",
       "      <td>30.0</td>\n",
       "      <td>71</td>\n",
       "      <td>21.7</td>\n",
       "      <td>61</td>\n",
       "      <td>16</td>\n",
       "      <td>30.04</td>\n",
       "    </tr>\n",
       "    <tr>\n",
       "      <th>7</th>\n",
       "      <td>4</td>\n",
       "      <td>19</td>\n",
       "      <td>5</td>\n",
       "      <td>AA</td>\n",
       "      <td>13930</td>\n",
       "      <td>13303</td>\n",
       "      <td>8</td>\n",
       "      <td>1235</td>\n",
       "      <td>0</td>\n",
       "      <td>2013</td>\n",
       "      <td>...</td>\n",
       "      <td>8</td>\n",
       "      <td>-5</td>\n",
       "      <td>10.0</td>\n",
       "      <td>86</td>\n",
       "      <td>30.0</td>\n",
       "      <td>71</td>\n",
       "      <td>21.7</td>\n",
       "      <td>61</td>\n",
       "      <td>16</td>\n",
       "      <td>30.04</td>\n",
       "    </tr>\n",
       "    <tr>\n",
       "      <th>8</th>\n",
       "      <td>4</td>\n",
       "      <td>19</td>\n",
       "      <td>5</td>\n",
       "      <td>AA</td>\n",
       "      <td>13930</td>\n",
       "      <td>13303</td>\n",
       "      <td>8</td>\n",
       "      <td>1235</td>\n",
       "      <td>0</td>\n",
       "      <td>2013</td>\n",
       "      <td>...</td>\n",
       "      <td>8</td>\n",
       "      <td>-5</td>\n",
       "      <td>10.0</td>\n",
       "      <td>86</td>\n",
       "      <td>30.0</td>\n",
       "      <td>71</td>\n",
       "      <td>21.7</td>\n",
       "      <td>61</td>\n",
       "      <td>16</td>\n",
       "      <td>30.04</td>\n",
       "    </tr>\n",
       "    <tr>\n",
       "      <th>9</th>\n",
       "      <td>4</td>\n",
       "      <td>19</td>\n",
       "      <td>5</td>\n",
       "      <td>AA</td>\n",
       "      <td>13204</td>\n",
       "      <td>13303</td>\n",
       "      <td>8</td>\n",
       "      <td>950</td>\n",
       "      <td>0</td>\n",
       "      <td>2013</td>\n",
       "      <td>...</td>\n",
       "      <td>8</td>\n",
       "      <td>-5</td>\n",
       "      <td>10.0</td>\n",
       "      <td>86</td>\n",
       "      <td>30.0</td>\n",
       "      <td>71</td>\n",
       "      <td>21.7</td>\n",
       "      <td>61</td>\n",
       "      <td>16</td>\n",
       "      <td>30.04</td>\n",
       "    </tr>\n",
       "  </tbody>\n",
       "</table>\n",
       "<p>10 rows × 37 columns</p>\n",
       "</div>"
      ],
      "text/plain": [
       "   Month  DayofMonth  DayOfWeek Carrier  OriginAirportID  DestAirportID  \\\n",
       "0      4          19          5      DL            11433          13303   \n",
       "1      4          19          5      DL            12478          13303   \n",
       "2      4          19          5      DL            12478          13303   \n",
       "3      4          19          5      DL            10397          13303   \n",
       "4      4          19          5      AA            10721          13303   \n",
       "5      4          19          5      EV            11042          13303   \n",
       "6      4          19          5      YV            12264          13303   \n",
       "7      4          19          5      AA            13930          13303   \n",
       "8      4          19          5      AA            13930          13303   \n",
       "9      4          19          5      AA            13204          13303   \n",
       "\n",
       "   CRSDepTime  CRSArrTime  ArrDel15  Year  ...  AdjustedHour_R  Timezone_R  \\\n",
       "0           8        1138         0  2013  ...               8          -5   \n",
       "1           8        1118         0  2013  ...               8          -5   \n",
       "2           8        1118         0  2013  ...               8          -5   \n",
       "3           8        1041         0  2013  ...               8          -5   \n",
       "4           8        1130         0  2013  ...               8          -5   \n",
       "5           8        1126         1  2013  ...               8          -5   \n",
       "6           8        1057         0  2013  ...               8          -5   \n",
       "7           8        1235         0  2013  ...               8          -5   \n",
       "8           8        1235         0  2013  ...               8          -5   \n",
       "9           8         950         0  2013  ...               8          -5   \n",
       "\n",
       "   Visibility_R  DryBulbFarenheit_R  DryBulbCelsius_R  DewPointFarenheit_R  \\\n",
       "0          10.0                  86              30.0                   71   \n",
       "1          10.0                  86              30.0                   71   \n",
       "2          10.0                  86              30.0                   71   \n",
       "3          10.0                  86              30.0                   71   \n",
       "4          10.0                  86              30.0                   71   \n",
       "5          10.0                  86              30.0                   71   \n",
       "6          10.0                  86              30.0                   71   \n",
       "7          10.0                  86              30.0                   71   \n",
       "8          10.0                  86              30.0                   71   \n",
       "9          10.0                  86              30.0                   71   \n",
       "\n",
       "   DewPointCelsius_R  RelativeHumidity_R  WindSpeed_R  Altimeter_R  \n",
       "0               21.7                  61           16        30.04  \n",
       "1               21.7                  61           16        30.04  \n",
       "2               21.7                  61           16        30.04  \n",
       "3               21.7                  61           16        30.04  \n",
       "4               21.7                  61           16        30.04  \n",
       "5               21.7                  61           16        30.04  \n",
       "6               21.7                  61           16        30.04  \n",
       "7               21.7                  61           16        30.04  \n",
       "8               21.7                  61           16        30.04  \n",
       "9               21.7                  61           16        30.04  \n",
       "\n",
       "[10 rows x 37 columns]"
      ]
     },
     "execution_count": 5,
     "metadata": {},
     "output_type": "execute_result"
    }
   ],
   "source": [
    "flightdata.head(10)"
   ]
  },
  {
   "cell_type": "code",
   "execution_count": 6,
   "metadata": {},
   "outputs": [
    {
     "data": {
      "text/plain": [
       "array([ 4,  1,  5, 15, 13, 10, 11, 14,  3,  9,  8, 12,  2,  7,  0,  6],\n",
       "      dtype=int64)"
      ]
     },
     "execution_count": 6,
     "metadata": {},
     "output_type": "execute_result"
    }
   ],
   "source": [
    "#flightdata.describe()\n",
    "carrierlist = list(flightdata.Carrier.unique())\n",
    "carrierlist.sort()\n",
    "carrierdict = {carrierlist[i]: list(range(len(carrierlist)))[i] for i in range(len(carrierlist))} \n",
    "flightdata[\"Carrier\"] = flightdata[\"Carrier\"].replace(carrierdict) \n",
    "flightdata.Carrier.unique()"
   ]
  },
  {
   "cell_type": "code",
   "execution_count": 7,
   "metadata": {},
   "outputs": [
    {
     "name": "stdout",
     "output_type": "stream",
     "text": [
      "(1230344, 37) (197309, 37)\n"
     ]
    }
   ],
   "source": [
    "train = flightdata[flightdata[\"Month\"] < 10]\n",
    "test = flightdata[flightdata[\"Month\"] >= 10]\n",
    "print(train.shape, test.shape)"
   ]
  },
  {
   "cell_type": "code",
   "execution_count": 8,
   "metadata": {},
   "outputs": [
    {
     "name": "stdout",
     "output_type": "stream",
     "text": [
      "(1230344, 32) (197309, 32)\n"
     ]
    }
   ],
   "source": [
    "train = train.drop(\n",
    "    [\"Month\", \"Year\", \"Year_R\", \"Timezone\", \"Timezone_R\"], axis=1)\n",
    "test = test.drop([\"Month\", \"Year\", \"Year_R\", \"Timezone\", \"Timezone_R\"], axis=1)\n",
    "print(train.shape, test.shape)"
   ]
  },
  {
   "cell_type": "code",
   "execution_count": 9,
   "metadata": {},
   "outputs": [
    {
     "name": "stdout",
     "output_type": "stream",
     "text": [
      "(1230344, 31) (1230344,)\n"
     ]
    }
   ],
   "source": [
    "trainX = train.drop([\"ArrDel15\"],axis = 1)\n",
    "trainy = train[\"ArrDel15\"]\n",
    "print(trainX.shape,trainy.shape)"
   ]
  },
  {
   "cell_type": "code",
   "execution_count": 10,
   "metadata": {},
   "outputs": [
    {
     "name": "stdout",
     "output_type": "stream",
     "text": [
      "(197309, 31) (197309,)\n"
     ]
    }
   ],
   "source": [
    "testX = test.drop([\"ArrDel15\"],axis = 1)\n",
    "testy = test[\"ArrDel15\"]\n",
    "print(testX.shape,testy.shape)"
   ]
  },
  {
   "cell_type": "code",
   "execution_count": 11,
   "metadata": {},
   "outputs": [],
   "source": [
    "model = LogisticRegression(solver=\"liblinear\")\n",
    "model.fit(trainX, trainy)\n",
    "predicted_classes = model.predict(testX)\n",
    "accuracy = metrics.accuracy_score(testy,predicted_classes)\n",
    "parameters = model.coef_"
   ]
  },
  {
   "cell_type": "code",
   "execution_count": 12,
   "metadata": {},
   "outputs": [
    {
     "data": {
      "text/plain": [
       "0.832810464803937"
      ]
     },
     "execution_count": 12,
     "metadata": {},
     "output_type": "execute_result"
    }
   ],
   "source": [
    "accuracy"
   ]
  },
  {
   "cell_type": "code",
   "execution_count": 13,
   "metadata": {},
   "outputs": [
    {
     "name": "stdout",
     "output_type": "stream",
     "text": [
      "[[164072    478]\n",
      " [ 32510    249]]\n"
     ]
    }
   ],
   "source": [
    "confusion = metrics.confusion_matrix(testy, model.predict(testX))\n",
    "print(confusion)\n",
    "#[row, column]\n",
    "TP = confusion[1, 1]\n",
    "TN = confusion[0, 0]\n",
    "FP = confusion[0, 1]\n",
    "FN = confusion[1, 0]"
   ]
  },
  {
   "cell_type": "code",
   "execution_count": 14,
   "metadata": {},
   "outputs": [
    {
     "name": "stdout",
     "output_type": "stream",
     "text": [
      "0.832810464803937\n",
      "0.832810464803937\n"
     ]
    }
   ],
   "source": [
    "# use float to perform true division, not integer division\n",
    "print((TP + TN) / float(TP + TN + FP + FN))\n",
    "print(metrics.accuracy_score(testy, model.predict(testX)))"
   ]
  },
  {
   "cell_type": "code",
   "execution_count": 15,
   "metadata": {},
   "outputs": [
    {
     "name": "stdout",
     "output_type": "stream",
     "text": [
      "0.16718953519606303\n",
      "0.16718953519606305\n"
     ]
    }
   ],
   "source": [
    "classification_error = (FP + FN) / float(TP + TN + FP + FN)\n",
    "\n",
    "print(classification_error)\n",
    "print(1 - metrics.accuracy_score(testy, model.predict(testX)))"
   ]
  },
  {
   "cell_type": "code",
   "execution_count": 16,
   "metadata": {},
   "outputs": [
    {
     "name": "stdout",
     "output_type": "stream",
     "text": [
      "0.0076009646204096585\n",
      "0.0076009646204096585\n"
     ]
    }
   ],
   "source": [
    "sensitivity = TP / float(FN + TP)\n",
    "\n",
    "print(sensitivity)\n",
    "print(metrics.recall_score(testy, model.predict(testX)))"
   ]
  },
  {
   "cell_type": "code",
   "execution_count": 17,
   "metadata": {},
   "outputs": [
    {
     "name": "stdout",
     "output_type": "stream",
     "text": [
      "0.9970951078699484\n"
     ]
    }
   ],
   "source": [
    "specificity = TN / (TN + FP)\n",
    "\n",
    "print(specificity)"
   ]
  },
  {
   "cell_type": "code",
   "execution_count": 18,
   "metadata": {},
   "outputs": [
    {
     "name": "stdout",
     "output_type": "stream",
     "text": [
      "0.002904892130051656\n",
      "0.0029048921300516284\n"
     ]
    }
   ],
   "source": [
    "false_positive_rate = FP / float(TN + FP)\n",
    "\n",
    "print(false_positive_rate)\n",
    "print(1 - specificity)"
   ]
  },
  {
   "cell_type": "code",
   "execution_count": 19,
   "metadata": {},
   "outputs": [
    {
     "name": "stdout",
     "output_type": "stream",
     "text": [
      "0.3425034387895461\n",
      "0.3425034387895461\n"
     ]
    }
   ],
   "source": [
    "precision = TP / float(TP + FP)\n",
    "\n",
    "print(precision)\n",
    "print(metrics.precision_score(testy, model.predict(testX)))"
   ]
  },
  {
   "cell_type": "markdown",
   "metadata": {},
   "source": [
    "Plotting the ROC curve"
   ]
  },
  {
   "cell_type": "code",
   "execution_count": 20,
   "metadata": {},
   "outputs": [
    {
     "data": {
      "image/png": "[encoded data removed]",
      "text/plain": [
       "<Figure size 432x288 with 1 Axes>"
      ]
     },
     "metadata": {
      "needs_background": "light"
     },
     "output_type": "display_data"
    }
   ],
   "source": [
    "# calculate the fpr and tpr for all thresholds of the classification\n",
    "probs = model.predict_proba(testX)\n",
    "preds = probs[:,1]\n",
    "fpr, tpr, threshold = metrics.roc_curve(testy, preds)\n",
    "roc_auc = metrics.auc(fpr, tpr)\n",
    "\n",
    "plt.title('Receiver Operating Characteristic')\n",
    "plt.plot(fpr, tpr, 'b', label = 'AUC = %0.2f' % roc_auc)\n",
    "plt.legend(loc = 'lower right')\n",
    "plt.plot([0, 1], [0, 1],'r--')\n",
    "plt.xlim([0, 1])\n",
    "plt.ylim([0, 1])\n",
    "plt.ylabel('True Positive Rate')\n",
    "plt.xlabel('False Positive Rate')\n",
    "plt.show()"
   ]
  },
  {
   "cell_type": "code",
   "execution_count": 21,
   "metadata": {},
   "outputs": [
    {
     "name": "stdout",
     "output_type": "stream",
     "text": [
      "0.6160948896988271\n"
     ]
    }
   ],
   "source": [
    "# IMPORTANT: first argument is true values, second argument is predicted probabilities\n",
    "print(metrics.roc_auc_score(testy, preds))"
   ]
  },
  {
   "cell_type": "code",
   "execution_count": null,
   "metadata": {},
   "outputs": [],
   "source": []
  }
 ],
 "metadata": {
  "kernelspec": {
   "display_name": "Python 3",
   "language": "python",
   "name": "python3"
  },
  "language_info": {
   "codemirror_mode": {
    "name": "ipython",
    "version": 3
   },
   "file_extension": ".py",
   "mimetype": "text/x-python",
   "name": "python",
   "nbconvert_exporter": "python",
   "pygments_lexer": "ipython3",
   "version": "3.7.7"
  }
 },
 "nbformat": 4,
 "nbformat_minor": 4
}
