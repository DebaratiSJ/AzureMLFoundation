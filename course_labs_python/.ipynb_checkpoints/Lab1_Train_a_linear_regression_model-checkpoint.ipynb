{
 "cells": [
  {
   "cell_type": "markdown",
   "metadata": {},
   "source": [
    "Importing the required libraries"
   ]
  },
  {
   "cell_type": "code",
   "execution_count": 1,
   "metadata": {},
   "outputs": [],
   "source": [
    "import pandas as pd\n",
    "import numpy as np\n",
    "import matplotlib.pyplot as plt\n",
    "import seaborn as seabornInstance\n",
    "from sklearn.model_selection import train_test_split\n",
    "from sklearn.linear_model import LinearRegression\n",
    "from sklearn import metrics\n",
    "from jupyterthemes import jtplot\n",
    "jtplot.style(theme='monokai', context='notebook', ticks=True, grid=False)\n",
    "%matplotlib inline"
   ]
  },
  {
   "cell_type": "markdown",
   "metadata": {},
   "source": [
    "Reading the dataset"
   ]
  },
  {
   "cell_type": "code",
   "execution_count": 2,
   "metadata": {},
   "outputs": [],
   "source": [
    "url = \"https://introtomlsampledata.blob.core.windows.net/data/nyc-taxi/nyc-taxi-sample-data.csv\"\n",
    "df = pd.read_csv(url)"
   ]
  },
  {
   "cell_type": "code",
   "execution_count": 3,
   "metadata": {},
   "outputs": [
    {
     "data": {
      "text/plain": [
       "(11734, 14)"
      ]
     },
     "execution_count": 3,
     "metadata": {},
     "output_type": "execute_result"
    }
   ],
   "source": [
    "df.shape"
   ]
  },
  {
   "cell_type": "code",
   "execution_count": 4,
   "metadata": {},
   "outputs": [
    {
     "data": {
      "text/html": [
       "<div>\n",
       "<style scoped>\n",
       "    .dataframe tbody tr th:only-of-type {\n",
       "        vertical-align: middle;\n",
       "    }\n",
       "\n",
       "    .dataframe tbody tr th {\n",
       "        vertical-align: top;\n",
       "    }\n",
       "\n",
       "    .dataframe thead th {\n",
       "        text-align: right;\n",
       "    }\n",
       "</style>\n",
       "<table border=\"1\" class=\"dataframe\">\n",
       "  <thead>\n",
       "    <tr style=\"text-align: right;\">\n",
       "      <th></th>\n",
       "      <th>vendorID</th>\n",
       "      <th>passengerCount</th>\n",
       "      <th>tripDistance</th>\n",
       "      <th>hour_of_day</th>\n",
       "      <th>day_of_week</th>\n",
       "      <th>day_of_month</th>\n",
       "      <th>month_num</th>\n",
       "      <th>normalizeHolidayName</th>\n",
       "      <th>isPaidTimeOff</th>\n",
       "      <th>snowDepth</th>\n",
       "      <th>precipTime</th>\n",
       "      <th>precipDepth</th>\n",
       "      <th>temperature</th>\n",
       "      <th>totalAmount</th>\n",
       "    </tr>\n",
       "  </thead>\n",
       "  <tbody>\n",
       "    <tr>\n",
       "      <th>0</th>\n",
       "      <td>1</td>\n",
       "      <td>1</td>\n",
       "      <td>9.40</td>\n",
       "      <td>15</td>\n",
       "      <td>2</td>\n",
       "      <td>27</td>\n",
       "      <td>1</td>\n",
       "      <td>None</td>\n",
       "      <td>False</td>\n",
       "      <td>29.058824</td>\n",
       "      <td>24.0</td>\n",
       "      <td>3.0</td>\n",
       "      <td>6.185714</td>\n",
       "      <td>44.30</td>\n",
       "    </tr>\n",
       "    <tr>\n",
       "      <th>1</th>\n",
       "      <td>2</td>\n",
       "      <td>5</td>\n",
       "      <td>14.75</td>\n",
       "      <td>13</td>\n",
       "      <td>4</td>\n",
       "      <td>15</td>\n",
       "      <td>1</td>\n",
       "      <td>None</td>\n",
       "      <td>False</td>\n",
       "      <td>0.000000</td>\n",
       "      <td>6.0</td>\n",
       "      <td>0.0</td>\n",
       "      <td>4.571930</td>\n",
       "      <td>44.80</td>\n",
       "    </tr>\n",
       "    <tr>\n",
       "      <th>2</th>\n",
       "      <td>2</td>\n",
       "      <td>1</td>\n",
       "      <td>3.35</td>\n",
       "      <td>23</td>\n",
       "      <td>4</td>\n",
       "      <td>8</td>\n",
       "      <td>1</td>\n",
       "      <td>None</td>\n",
       "      <td>False</td>\n",
       "      <td>0.000000</td>\n",
       "      <td>1.0</td>\n",
       "      <td>0.0</td>\n",
       "      <td>4.384091</td>\n",
       "      <td>18.96</td>\n",
       "    </tr>\n",
       "    <tr>\n",
       "      <th>3</th>\n",
       "      <td>2</td>\n",
       "      <td>1</td>\n",
       "      <td>3.33</td>\n",
       "      <td>18</td>\n",
       "      <td>2</td>\n",
       "      <td>27</td>\n",
       "      <td>1</td>\n",
       "      <td>None</td>\n",
       "      <td>False</td>\n",
       "      <td>29.058824</td>\n",
       "      <td>24.0</td>\n",
       "      <td>3.0</td>\n",
       "      <td>6.185714</td>\n",
       "      <td>16.30</td>\n",
       "    </tr>\n",
       "    <tr>\n",
       "      <th>4</th>\n",
       "      <td>2</td>\n",
       "      <td>1</td>\n",
       "      <td>0.47</td>\n",
       "      <td>17</td>\n",
       "      <td>6</td>\n",
       "      <td>3</td>\n",
       "      <td>1</td>\n",
       "      <td>None</td>\n",
       "      <td>False</td>\n",
       "      <td>0.000000</td>\n",
       "      <td>1.0</td>\n",
       "      <td>0.0</td>\n",
       "      <td>3.846429</td>\n",
       "      <td>5.30</td>\n",
       "    </tr>\n",
       "  </tbody>\n",
       "</table>\n",
       "</div>"
      ],
      "text/plain": [
       "   vendorID  passengerCount  tripDistance  hour_of_day  day_of_week  \\\n",
       "0         1               1          9.40           15            2   \n",
       "1         2               5         14.75           13            4   \n",
       "2         2               1          3.35           23            4   \n",
       "3         2               1          3.33           18            2   \n",
       "4         2               1          0.47           17            6   \n",
       "\n",
       "   day_of_month  month_num normalizeHolidayName  isPaidTimeOff  snowDepth  \\\n",
       "0            27          1                 None          False  29.058824   \n",
       "1            15          1                 None          False   0.000000   \n",
       "2             8          1                 None          False   0.000000   \n",
       "3            27          1                 None          False  29.058824   \n",
       "4             3          1                 None          False   0.000000   \n",
       "\n",
       "   precipTime  precipDepth  temperature  totalAmount  \n",
       "0        24.0          3.0     6.185714        44.30  \n",
       "1         6.0          0.0     4.571930        44.80  \n",
       "2         1.0          0.0     4.384091        18.96  \n",
       "3        24.0          3.0     6.185714        16.30  \n",
       "4         1.0          0.0     3.846429         5.30  "
      ]
     },
     "execution_count": 4,
     "metadata": {},
     "output_type": "execute_result"
    }
   ],
   "source": [
    "df.head()"
   ]
  },
  {
   "cell_type": "code",
   "execution_count": 5,
   "metadata": {},
   "outputs": [
    {
     "data": {
      "text/plain": [
       "array(['None', 'Martin Luther King, Jr. Day', \"New Year's Day\",\n",
       "       \"Washington's Birthday\", 'Memorial Day'], dtype=object)"
      ]
     },
     "execution_count": 5,
     "metadata": {},
     "output_type": "execute_result"
    }
   ],
   "source": [
    "df.normalizeHolidayName.unique()"
   ]
  },
  {
   "cell_type": "markdown",
   "metadata": {},
   "source": [
    "Replacing normalizeHolidayName string values with integers, as strings are not accepted sklearn.linear_model.\n",
    "\n",
    "Ideally, we should one hot encode it, but for the sake of this lab, only replacing with integers."
   ]
  },
  {
   "cell_type": "code",
   "execution_count": 6,
   "metadata": {},
   "outputs": [
    {
     "data": {
      "text/plain": [
       "array([0, 1, 2, 3, 4], dtype=int64)"
      ]
     },
     "execution_count": 6,
     "metadata": {},
     "output_type": "execute_result"
    }
   ],
   "source": [
    "replace_dict = {'None': 0, 'Martin Luther King, Jr. Day': 1, \"New Year's Day\": 2,\n",
    "                \"Washington's Birthday\": 3, 'Memorial Day': 4}\n",
    "df.normalizeHolidayName = df.normalizeHolidayName.replace(replace_dict)\n",
    "df.normalizeHolidayName.unique()"
   ]
  },
  {
   "cell_type": "code",
   "execution_count": 7,
   "metadata": {},
   "outputs": [
    {
     "data": {
      "text/html": [
       "<div>\n",
       "<style scoped>\n",
       "    .dataframe tbody tr th:only-of-type {\n",
       "        vertical-align: middle;\n",
       "    }\n",
       "\n",
       "    .dataframe tbody tr th {\n",
       "        vertical-align: top;\n",
       "    }\n",
       "\n",
       "    .dataframe thead th {\n",
       "        text-align: right;\n",
       "    }\n",
       "</style>\n",
       "<table border=\"1\" class=\"dataframe\">\n",
       "  <thead>\n",
       "    <tr style=\"text-align: right;\">\n",
       "      <th></th>\n",
       "      <th>vendorID</th>\n",
       "      <th>passengerCount</th>\n",
       "      <th>tripDistance</th>\n",
       "      <th>hour_of_day</th>\n",
       "      <th>day_of_week</th>\n",
       "      <th>day_of_month</th>\n",
       "      <th>month_num</th>\n",
       "      <th>normalizeHolidayName</th>\n",
       "      <th>snowDepth</th>\n",
       "      <th>precipTime</th>\n",
       "      <th>precipDepth</th>\n",
       "      <th>temperature</th>\n",
       "      <th>totalAmount</th>\n",
       "    </tr>\n",
       "  </thead>\n",
       "  <tbody>\n",
       "    <tr>\n",
       "      <th>count</th>\n",
       "      <td>11734.000000</td>\n",
       "      <td>11734.000000</td>\n",
       "      <td>11734.000000</td>\n",
       "      <td>11734.000000</td>\n",
       "      <td>11734.000000</td>\n",
       "      <td>11734.000000</td>\n",
       "      <td>11734.000000</td>\n",
       "      <td>11734.000000</td>\n",
       "      <td>11734.000000</td>\n",
       "      <td>11734.000000</td>\n",
       "      <td>11734.000000</td>\n",
       "      <td>11734.000000</td>\n",
       "      <td>11734.000000</td>\n",
       "    </tr>\n",
       "    <tr>\n",
       "      <th>mean</th>\n",
       "      <td>1.790608</td>\n",
       "      <td>1.348560</td>\n",
       "      <td>2.866139</td>\n",
       "      <td>13.633884</td>\n",
       "      <td>3.223879</td>\n",
       "      <td>15.000256</td>\n",
       "      <td>3.502898</td>\n",
       "      <td>0.052241</td>\n",
       "      <td>1.609015</td>\n",
       "      <td>12.028379</td>\n",
       "      <td>190.782342</td>\n",
       "      <td>10.314244</td>\n",
       "      <td>14.733528</td>\n",
       "    </tr>\n",
       "    <tr>\n",
       "      <th>std</th>\n",
       "      <td>0.406892</td>\n",
       "      <td>1.016123</td>\n",
       "      <td>2.905810</td>\n",
       "      <td>6.670530</td>\n",
       "      <td>1.961855</td>\n",
       "      <td>8.467892</td>\n",
       "      <td>1.707729</td>\n",
       "      <td>0.388510</td>\n",
       "      <td>7.146771</td>\n",
       "      <td>10.158597</td>\n",
       "      <td>1211.087724</td>\n",
       "      <td>8.500600</td>\n",
       "      <td>10.983099</td>\n",
       "    </tr>\n",
       "    <tr>\n",
       "      <th>min</th>\n",
       "      <td>1.000000</td>\n",
       "      <td>1.000000</td>\n",
       "      <td>0.010000</td>\n",
       "      <td>0.000000</td>\n",
       "      <td>0.000000</td>\n",
       "      <td>1.000000</td>\n",
       "      <td>1.000000</td>\n",
       "      <td>0.000000</td>\n",
       "      <td>0.000000</td>\n",
       "      <td>1.000000</td>\n",
       "      <td>0.000000</td>\n",
       "      <td>-13.379464</td>\n",
       "      <td>3.300000</td>\n",
       "    </tr>\n",
       "    <tr>\n",
       "      <th>25%</th>\n",
       "      <td>2.000000</td>\n",
       "      <td>1.000000</td>\n",
       "      <td>1.060000</td>\n",
       "      <td>9.000000</td>\n",
       "      <td>2.000000</td>\n",
       "      <td>8.000000</td>\n",
       "      <td>2.000000</td>\n",
       "      <td>0.000000</td>\n",
       "      <td>0.000000</td>\n",
       "      <td>1.000000</td>\n",
       "      <td>0.000000</td>\n",
       "      <td>3.566372</td>\n",
       "      <td>8.150000</td>\n",
       "    </tr>\n",
       "    <tr>\n",
       "      <th>50%</th>\n",
       "      <td>2.000000</td>\n",
       "      <td>1.000000</td>\n",
       "      <td>1.900000</td>\n",
       "      <td>15.000000</td>\n",
       "      <td>3.000000</td>\n",
       "      <td>15.000000</td>\n",
       "      <td>4.000000</td>\n",
       "      <td>0.000000</td>\n",
       "      <td>0.000000</td>\n",
       "      <td>6.000000</td>\n",
       "      <td>3.000000</td>\n",
       "      <td>10.318229</td>\n",
       "      <td>11.300000</td>\n",
       "    </tr>\n",
       "    <tr>\n",
       "      <th>75%</th>\n",
       "      <td>2.000000</td>\n",
       "      <td>1.000000</td>\n",
       "      <td>3.620000</td>\n",
       "      <td>19.000000</td>\n",
       "      <td>5.000000</td>\n",
       "      <td>22.000000</td>\n",
       "      <td>5.000000</td>\n",
       "      <td>0.000000</td>\n",
       "      <td>0.000000</td>\n",
       "      <td>24.000000</td>\n",
       "      <td>41.000000</td>\n",
       "      <td>17.239744</td>\n",
       "      <td>17.800000</td>\n",
       "    </tr>\n",
       "    <tr>\n",
       "      <th>max</th>\n",
       "      <td>2.000000</td>\n",
       "      <td>6.000000</td>\n",
       "      <td>62.550000</td>\n",
       "      <td>23.000000</td>\n",
       "      <td>6.000000</td>\n",
       "      <td>30.000000</td>\n",
       "      <td>6.000000</td>\n",
       "      <td>4.000000</td>\n",
       "      <td>67.090909</td>\n",
       "      <td>24.000000</td>\n",
       "      <td>9999.000000</td>\n",
       "      <td>26.524107</td>\n",
       "      <td>339.380000</td>\n",
       "    </tr>\n",
       "  </tbody>\n",
       "</table>\n",
       "</div>"
      ],
      "text/plain": [
       "           vendorID  passengerCount  tripDistance   hour_of_day   day_of_week  \\\n",
       "count  11734.000000    11734.000000  11734.000000  11734.000000  11734.000000   \n",
       "mean       1.790608        1.348560      2.866139     13.633884      3.223879   \n",
       "std        0.406892        1.016123      2.905810      6.670530      1.961855   \n",
       "min        1.000000        1.000000      0.010000      0.000000      0.000000   \n",
       "25%        2.000000        1.000000      1.060000      9.000000      2.000000   \n",
       "50%        2.000000        1.000000      1.900000     15.000000      3.000000   \n",
       "75%        2.000000        1.000000      3.620000     19.000000      5.000000   \n",
       "max        2.000000        6.000000     62.550000     23.000000      6.000000   \n",
       "\n",
       "       day_of_month     month_num  normalizeHolidayName     snowDepth  \\\n",
       "count  11734.000000  11734.000000          11734.000000  11734.000000   \n",
       "mean      15.000256      3.502898              0.052241      1.609015   \n",
       "std        8.467892      1.707729              0.388510      7.146771   \n",
       "min        1.000000      1.000000              0.000000      0.000000   \n",
       "25%        8.000000      2.000000              0.000000      0.000000   \n",
       "50%       15.000000      4.000000              0.000000      0.000000   \n",
       "75%       22.000000      5.000000              0.000000      0.000000   \n",
       "max       30.000000      6.000000              4.000000     67.090909   \n",
       "\n",
       "         precipTime   precipDepth   temperature   totalAmount  \n",
       "count  11734.000000  11734.000000  11734.000000  11734.000000  \n",
       "mean      12.028379    190.782342     10.314244     14.733528  \n",
       "std       10.158597   1211.087724      8.500600     10.983099  \n",
       "min        1.000000      0.000000    -13.379464      3.300000  \n",
       "25%        1.000000      0.000000      3.566372      8.150000  \n",
       "50%        6.000000      3.000000     10.318229     11.300000  \n",
       "75%       24.000000     41.000000     17.239744     17.800000  \n",
       "max       24.000000   9999.000000     26.524107    339.380000  "
      ]
     },
     "execution_count": 7,
     "metadata": {},
     "output_type": "execute_result"
    }
   ],
   "source": [
    "df.describe()"
   ]
  },
  {
   "cell_type": "code",
   "execution_count": 8,
   "metadata": {},
   "outputs": [
    {
     "data": {
      "text/plain": [
       "(11734, 13)"
      ]
     },
     "execution_count": 8,
     "metadata": {},
     "output_type": "execute_result"
    }
   ],
   "source": [
    "X = df.loc[:,df.columns!=\"totalAmount\"]\n",
    "X.shape"
   ]
  },
  {
   "cell_type": "code",
   "execution_count": 9,
   "metadata": {},
   "outputs": [
    {
     "data": {
      "text/plain": [
       "(11734,)"
      ]
     },
     "execution_count": 9,
     "metadata": {},
     "output_type": "execute_result"
    }
   ],
   "source": [
    "y = df.pop(\"totalAmount\")\n",
    "y.shape"
   ]
  },
  {
   "cell_type": "code",
   "execution_count": 10,
   "metadata": {},
   "outputs": [],
   "source": [
    "X_train, X_test, y_train, y_test = train_test_split(\n",
    "    X, y, test_size=0.3, random_state=0)"
   ]
  },
  {
   "cell_type": "code",
   "execution_count": 11,
   "metadata": {},
   "outputs": [
    {
     "data": {
      "text/plain": [
       "LinearRegression()"
      ]
     },
     "execution_count": 11,
     "metadata": {},
     "output_type": "execute_result"
    }
   ],
   "source": [
    "regressor = LinearRegression()  \n",
    "regressor.fit(X_train, y_train) #training the algorithm"
   ]
  },
  {
   "cell_type": "code",
   "execution_count": 12,
   "metadata": {},
   "outputs": [
    {
     "name": "stdout",
     "output_type": "stream",
     "text": [
      "4.7298894350859975\n",
      "[-1.11075168e-01  2.96569020e-02  3.48968985e+00  3.63774740e-02\n",
      " -9.74038828e-02 -5.61825862e-03 -1.31295419e-02 -2.34404120e-01\n",
      " -4.62059415e-01  4.48175038e-03  6.81548810e-03 -4.19417211e-05\n",
      "  5.77693516e-03]\n"
     ]
    }
   ],
   "source": [
    "#To retrieve the intercept:\n",
    "print(regressor.intercept_)\n",
    "#For retrieving the slope:\n",
    "print(regressor.coef_)"
   ]
  },
  {
   "cell_type": "code",
   "execution_count": 13,
   "metadata": {},
   "outputs": [],
   "source": [
    "y_pred = regressor.predict(X_test)"
   ]
  },
  {
   "cell_type": "code",
   "execution_count": 14,
   "metadata": {},
   "outputs": [
    {
     "data": {
      "text/html": [
       "<div>\n",
       "<style scoped>\n",
       "    .dataframe tbody tr th:only-of-type {\n",
       "        vertical-align: middle;\n",
       "    }\n",
       "\n",
       "    .dataframe tbody tr th {\n",
       "        vertical-align: top;\n",
       "    }\n",
       "\n",
       "    .dataframe thead th {\n",
       "        text-align: right;\n",
       "    }\n",
       "</style>\n",
       "<table border=\"1\" class=\"dataframe\">\n",
       "  <thead>\n",
       "    <tr style=\"text-align: right;\">\n",
       "      <th></th>\n",
       "      <th>Actual</th>\n",
       "      <th>Predicted</th>\n",
       "    </tr>\n",
       "  </thead>\n",
       "  <tbody>\n",
       "    <tr>\n",
       "      <th>3184</th>\n",
       "      <td>27.36</td>\n",
       "      <td>28.802749</td>\n",
       "    </tr>\n",
       "    <tr>\n",
       "      <th>7550</th>\n",
       "      <td>10.30</td>\n",
       "      <td>11.209055</td>\n",
       "    </tr>\n",
       "    <tr>\n",
       "      <th>9090</th>\n",
       "      <td>12.36</td>\n",
       "      <td>9.754367</td>\n",
       "    </tr>\n",
       "    <tr>\n",
       "      <th>2627</th>\n",
       "      <td>10.30</td>\n",
       "      <td>10.975948</td>\n",
       "    </tr>\n",
       "    <tr>\n",
       "      <th>2456</th>\n",
       "      <td>14.30</td>\n",
       "      <td>16.770612</td>\n",
       "    </tr>\n",
       "    <tr>\n",
       "      <th>...</th>\n",
       "      <td>...</td>\n",
       "      <td>...</td>\n",
       "    </tr>\n",
       "    <tr>\n",
       "      <th>3114</th>\n",
       "      <td>4.80</td>\n",
       "      <td>5.891393</td>\n",
       "    </tr>\n",
       "    <tr>\n",
       "      <th>4960</th>\n",
       "      <td>17.30</td>\n",
       "      <td>22.135783</td>\n",
       "    </tr>\n",
       "    <tr>\n",
       "      <th>9380</th>\n",
       "      <td>8.80</td>\n",
       "      <td>10.089930</td>\n",
       "    </tr>\n",
       "    <tr>\n",
       "      <th>3378</th>\n",
       "      <td>35.80</td>\n",
       "      <td>41.486233</td>\n",
       "    </tr>\n",
       "    <tr>\n",
       "      <th>7723</th>\n",
       "      <td>24.30</td>\n",
       "      <td>24.106544</td>\n",
       "    </tr>\n",
       "  </tbody>\n",
       "</table>\n",
       "<p>3521 rows × 2 columns</p>\n",
       "</div>"
      ],
      "text/plain": [
       "      Actual  Predicted\n",
       "3184   27.36  28.802749\n",
       "7550   10.30  11.209055\n",
       "9090   12.36   9.754367\n",
       "2627   10.30  10.975948\n",
       "2456   14.30  16.770612\n",
       "...      ...        ...\n",
       "3114    4.80   5.891393\n",
       "4960   17.30  22.135783\n",
       "9380    8.80  10.089930\n",
       "3378   35.80  41.486233\n",
       "7723   24.30  24.106544\n",
       "\n",
       "[3521 rows x 2 columns]"
      ]
     },
     "execution_count": 14,
     "metadata": {},
     "output_type": "execute_result"
    }
   ],
   "source": [
    "df = pd.DataFrame({'Actual': y_test, 'Predicted': y_pred})\n",
    "df"
   ]
  },
  {
   "cell_type": "code",
   "execution_count": 15,
   "metadata": {},
   "outputs": [
    {
     "data": {
      "image/png": "[encoded data removed]",
      "text/plain": [
       "<Figure size 432x288 with 1 Axes>"
      ]
     },
     "metadata": {
      "needs_background": "dark"
     },
     "output_type": "display_data"
    }
   ],
   "source": [
    "plt.scatter(y_test, y_pred,  color='blue')\n",
    "plt.show()\n"
   ]
  },
  {
   "cell_type": "code",
   "execution_count": 16,
   "metadata": {},
   "outputs": [
    {
     "name": "stdout",
     "output_type": "stream",
     "text": [
      "Mean Absolute Error: 2.1950859013039326\n",
      "Mean Squared Error: 15.575372060215589\n",
      "Root Mean Squared Error: 3.9465645896419317\n",
      "Coefficient of Determination (R^2): 0.848065997103747\n"
     ]
    }
   ],
   "source": [
    "print('Mean Absolute Error:', metrics.mean_absolute_error(y_test, y_pred))\n",
    "print('Mean Squared Error:', metrics.mean_squared_error(y_test, y_pred))\n",
    "print('Root Mean Squared Error:', np.sqrt(\n",
    "    metrics.mean_squared_error(y_test, y_pred)))\n",
    "print('Coefficient of Determination (R^2):', metrics.r2_score(y_test, y_pred))"
   ]
  },
  {
   "cell_type": "code",
   "execution_count": null,
   "metadata": {},
   "outputs": [],
   "source": []
  }
 ],
 "metadata": {
  "kernelspec": {
   "display_name": "Python 3",
   "language": "python",
   "name": "python3"
  },
  "language_info": {
   "codemirror_mode": {
    "name": "ipython",
    "version": 3
   },
   "file_extension": ".py",
   "mimetype": "text/x-python",
   "name": "python",
   "nbconvert_exporter": "python",
   "pygments_lexer": "ipython3",
   "version": "3.7.7"
  }
 },
 "nbformat": 4,
 "nbformat_minor": 4
}
