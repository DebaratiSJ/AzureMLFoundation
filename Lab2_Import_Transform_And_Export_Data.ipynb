{
 "cells": [
  {
   "cell_type": "markdown",
   "metadata": {},
   "source": [
    "Importing the required libraries."
   ]
  },
  {
   "cell_type": "code",
   "execution_count": 1,
   "metadata": {},
   "outputs": [],
   "source": [
    "import pandas as pd\n",
    "import numpy as np  \n",
    "import matplotlib.pyplot as plt  \n",
    "import seaborn as seabornInstance \n",
    "from sklearn.model_selection import train_test_split \n",
    "from sklearn.linear_model import LinearRegression\n",
    "from sklearn import metrics\n",
    "%matplotlib inline"
   ]
  },
  {
   "cell_type": "markdown",
   "metadata": {},
   "source": [
    "Reading the datasets. crime-dirty.csv is a manipulated version of original file as it had to be clean. Will update the notebook to read the original file in the future."
   ]
  },
  {
   "cell_type": "code",
   "execution_count": 2,
   "metadata": {},
   "outputs": [],
   "source": [
    "url = \"data\\crime-dirty.csv\"\n",
    "url_spring = \"data\\crime-spring.csv\"\n",
    "url_winter = \"data\\crime-winter.csv\"\n",
    "dataset = pd.read_csv(url)\n",
    "dataset_spring = pd.read_csv(url_spring)\n",
    "dataset_winter = pd.read_csv(url_winter)"
   ]
  },
  {
   "cell_type": "markdown",
   "metadata": {},
   "source": [
    "Column \"FBI Code\" to string."
   ]
  },
  {
   "cell_type": "code",
   "execution_count": 3,
   "metadata": {},
   "outputs": [],
   "source": [
    "dataset[\"FBI Code\"] = dataset[\"FBI Code\"].astype(str)\n",
    "dataset_spring[\"FBI Code\"] = dataset_spring[\"FBI Code\"].astype(str)\n",
    "dataset_winter[\"FBI Code\"] = dataset_winter[\"FBI Code\"].astype(str)"
   ]
  },
  {
   "cell_type": "code",
   "execution_count": 4,
   "metadata": {},
   "outputs": [
    {
     "data": {
      "text/plain": [
       "(10, 22)"
      ]
     },
     "execution_count": 4,
     "metadata": {},
     "output_type": "execute_result"
    }
   ],
   "source": [
    "dataset.head()\n",
    "dataset.shape"
   ]
  },
  {
   "cell_type": "code",
   "execution_count": 5,
   "metadata": {},
   "outputs": [
    {
     "data": {
      "text/plain": [
       "(10, 22)"
      ]
     },
     "execution_count": 5,
     "metadata": {},
     "output_type": "execute_result"
    }
   ],
   "source": [
    "dataset_spring.head()\n",
    "dataset_spring.shape"
   ]
  },
  {
   "cell_type": "code",
   "execution_count": 6,
   "metadata": {},
   "outputs": [
    {
     "data": {
      "text/plain": [
       "(10, 22)"
      ]
     },
     "execution_count": 6,
     "metadata": {},
     "output_type": "execute_result"
    }
   ],
   "source": [
    "dataset_winter.head()\n",
    "dataset_winter.shape"
   ]
  },
  {
   "cell_type": "markdown",
   "metadata": {},
   "source": [
    "Merging all the datasets"
   ]
  },
  {
   "cell_type": "code",
   "execution_count": 7,
   "metadata": {},
   "outputs": [],
   "source": [
    "dataset_merged = pd.concat([dataset,dataset_spring,dataset_winter])"
   ]
  },
  {
   "cell_type": "code",
   "execution_count": 8,
   "metadata": {},
   "outputs": [
    {
     "data": {
      "text/plain": [
       "(30, 22)"
      ]
     },
     "execution_count": 8,
     "metadata": {},
     "output_type": "execute_result"
    }
   ],
   "source": [
    "dataset_merged.shape"
   ]
  },
  {
   "cell_type": "code",
   "execution_count": 9,
   "metadata": {},
   "outputs": [
    {
     "data": {
      "text/html": [
       "<div>\n",
       "<style scoped>\n",
       "    .dataframe tbody tr th:only-of-type {\n",
       "        vertical-align: middle;\n",
       "    }\n",
       "\n",
       "    .dataframe tbody tr th {\n",
       "        vertical-align: top;\n",
       "    }\n",
       "\n",
       "    .dataframe thead th {\n",
       "        text-align: right;\n",
       "    }\n",
       "</style>\n",
       "<table border=\"1\" class=\"dataframe\">\n",
       "  <thead>\n",
       "    <tr style=\"text-align: right;\">\n",
       "      <th></th>\n",
       "      <th>ID</th>\n",
       "      <th>IUCR</th>\n",
       "      <th>Beat</th>\n",
       "      <th>District</th>\n",
       "      <th>Ward</th>\n",
       "      <th>Community Area</th>\n",
       "      <th>X Coordinate</th>\n",
       "      <th>Y Coordinate</th>\n",
       "      <th>Year</th>\n",
       "      <th>Latitude</th>\n",
       "      <th>Longitude</th>\n",
       "    </tr>\n",
       "  </thead>\n",
       "  <tbody>\n",
       "    <tr>\n",
       "      <th>count</th>\n",
       "      <td>3.000000e+01</td>\n",
       "      <td>30.000000</td>\n",
       "      <td>30.000000</td>\n",
       "      <td>29.000000</td>\n",
       "      <td>30.000000</td>\n",
       "      <td>30.000000</td>\n",
       "      <td>2.000000e+01</td>\n",
       "      <td>2.000000e+01</td>\n",
       "      <td>30.000000</td>\n",
       "      <td>20.000000</td>\n",
       "      <td>20.000000</td>\n",
       "    </tr>\n",
       "    <tr>\n",
       "      <th>mean</th>\n",
       "      <td>1.034787e+07</td>\n",
       "      <td>1210.733333</td>\n",
       "      <td>1253.700000</td>\n",
       "      <td>12.551724</td>\n",
       "      <td>24.333333</td>\n",
       "      <td>41.733333</td>\n",
       "      <td>1.162684e+06</td>\n",
       "      <td>1.884247e+06</td>\n",
       "      <td>2015.666667</td>\n",
       "      <td>41.838015</td>\n",
       "      <td>-87.678575</td>\n",
       "    </tr>\n",
       "    <tr>\n",
       "      <th>std</th>\n",
       "      <td>1.599503e+05</td>\n",
       "      <td>1011.414269</td>\n",
       "      <td>640.851543</td>\n",
       "      <td>6.367250</td>\n",
       "      <td>14.355903</td>\n",
       "      <td>24.002778</td>\n",
       "      <td>1.452463e+04</td>\n",
       "      <td>3.571175e+04</td>\n",
       "      <td>0.479463</td>\n",
       "      <td>0.098176</td>\n",
       "      <td>0.052716</td>\n",
       "    </tr>\n",
       "    <tr>\n",
       "      <th>min</th>\n",
       "      <td>1.013970e+07</td>\n",
       "      <td>460.000000</td>\n",
       "      <td>413.000000</td>\n",
       "      <td>4.000000</td>\n",
       "      <td>1.000000</td>\n",
       "      <td>1.000000</td>\n",
       "      <td>1.129230e+06</td>\n",
       "      <td>1.826485e+06</td>\n",
       "      <td>2015.000000</td>\n",
       "      <td>41.679311</td>\n",
       "      <td>-87.800175</td>\n",
       "    </tr>\n",
       "    <tr>\n",
       "      <th>25%</th>\n",
       "      <td>1.014041e+07</td>\n",
       "      <td>667.500000</td>\n",
       "      <td>824.000000</td>\n",
       "      <td>8.000000</td>\n",
       "      <td>12.500000</td>\n",
       "      <td>24.000000</td>\n",
       "      <td>1.155420e+06</td>\n",
       "      <td>1.855105e+06</td>\n",
       "      <td>2015.000000</td>\n",
       "      <td>41.757966</td>\n",
       "      <td>-87.705269</td>\n",
       "    </tr>\n",
       "    <tr>\n",
       "      <th>50%</th>\n",
       "      <td>1.037945e+07</td>\n",
       "      <td>975.000000</td>\n",
       "      <td>1076.000000</td>\n",
       "      <td>11.000000</td>\n",
       "      <td>22.500000</td>\n",
       "      <td>48.500000</td>\n",
       "      <td>1.162550e+06</td>\n",
       "      <td>1.881888e+06</td>\n",
       "      <td>2016.000000</td>\n",
       "      <td>41.831472</td>\n",
       "      <td>-87.679083</td>\n",
       "    </tr>\n",
       "    <tr>\n",
       "      <th>75%</th>\n",
       "      <td>1.051240e+07</td>\n",
       "      <td>1153.750000</td>\n",
       "      <td>1696.750000</td>\n",
       "      <td>17.000000</td>\n",
       "      <td>36.250000</td>\n",
       "      <td>62.500000</td>\n",
       "      <td>1.169412e+06</td>\n",
       "      <td>1.909235e+06</td>\n",
       "      <td>2016.000000</td>\n",
       "      <td>41.906668</td>\n",
       "      <td>-87.653893</td>\n",
       "    </tr>\n",
       "    <tr>\n",
       "      <th>max</th>\n",
       "      <td>1.053506e+07</td>\n",
       "      <td>5002.000000</td>\n",
       "      <td>2522.000000</td>\n",
       "      <td>25.000000</td>\n",
       "      <td>49.000000</td>\n",
       "      <td>77.000000</td>\n",
       "      <td>1.192434e+06</td>\n",
       "      <td>1.946271e+06</td>\n",
       "      <td>2016.000000</td>\n",
       "      <td>42.008124</td>\n",
       "      <td>-87.570656</td>\n",
       "    </tr>\n",
       "  </tbody>\n",
       "</table>\n",
       "</div>"
      ],
      "text/plain": [
       "                 ID         IUCR         Beat   District       Ward  \\\n",
       "count  3.000000e+01    30.000000    30.000000  29.000000  30.000000   \n",
       "mean   1.034787e+07  1210.733333  1253.700000  12.551724  24.333333   \n",
       "std    1.599503e+05  1011.414269   640.851543   6.367250  14.355903   \n",
       "min    1.013970e+07   460.000000   413.000000   4.000000   1.000000   \n",
       "25%    1.014041e+07   667.500000   824.000000   8.000000  12.500000   \n",
       "50%    1.037945e+07   975.000000  1076.000000  11.000000  22.500000   \n",
       "75%    1.051240e+07  1153.750000  1696.750000  17.000000  36.250000   \n",
       "max    1.053506e+07  5002.000000  2522.000000  25.000000  49.000000   \n",
       "\n",
       "       Community Area  X Coordinate  Y Coordinate         Year   Latitude  \\\n",
       "count       30.000000  2.000000e+01  2.000000e+01    30.000000  20.000000   \n",
       "mean        41.733333  1.162684e+06  1.884247e+06  2015.666667  41.838015   \n",
       "std         24.002778  1.452463e+04  3.571175e+04     0.479463   0.098176   \n",
       "min          1.000000  1.129230e+06  1.826485e+06  2015.000000  41.679311   \n",
       "25%         24.000000  1.155420e+06  1.855105e+06  2015.000000  41.757966   \n",
       "50%         48.500000  1.162550e+06  1.881888e+06  2016.000000  41.831472   \n",
       "75%         62.500000  1.169412e+06  1.909235e+06  2016.000000  41.906668   \n",
       "max         77.000000  1.192434e+06  1.946271e+06  2016.000000  42.008124   \n",
       "\n",
       "       Longitude  \n",
       "count  20.000000  \n",
       "mean  -87.678575  \n",
       "std     0.052716  \n",
       "min   -87.800175  \n",
       "25%   -87.705269  \n",
       "50%   -87.679083  \n",
       "75%   -87.653893  \n",
       "max   -87.570656  "
      ]
     },
     "execution_count": 9,
     "metadata": {},
     "output_type": "execute_result"
    }
   ],
   "source": [
    "dataset_merged.describe()"
   ]
  },
  {
   "cell_type": "code",
   "execution_count": 10,
   "metadata": {},
   "outputs": [
    {
     "name": "stdout",
     "output_type": "stream",
     "text": [
      "<class 'pandas.core.frame.DataFrame'>\n",
      "Int64Index: 30 entries, 0 to 9\n",
      "Data columns (total 22 columns):\n",
      " #   Column                Non-Null Count  Dtype  \n",
      "---  ------                --------------  -----  \n",
      " 0   ID                    30 non-null     int64  \n",
      " 1   Case Number           30 non-null     object \n",
      " 2   Date                  30 non-null     object \n",
      " 3   Block                 30 non-null     object \n",
      " 4   IUCR                  30 non-null     int64  \n",
      " 5   Primary Type          30 non-null     object \n",
      " 6   Description           30 non-null     object \n",
      " 7   Location Description  29 non-null     object \n",
      " 8   Arrest                30 non-null     bool   \n",
      " 9   Domestic              30 non-null     bool   \n",
      " 10  Beat                  30 non-null     int64  \n",
      " 11  District              29 non-null     float64\n",
      " 12  Ward                  30 non-null     int64  \n",
      " 13  Community Area        30 non-null     int64  \n",
      " 14  FBI Code              30 non-null     object \n",
      " 15  X Coordinate          20 non-null     float64\n",
      " 16  Y Coordinate          20 non-null     float64\n",
      " 17  Year                  30 non-null     int64  \n",
      " 18  Updated On            30 non-null     object \n",
      " 19  Latitude              20 non-null     float64\n",
      " 20  Longitude             20 non-null     float64\n",
      " 21  Location              20 non-null     object \n",
      "dtypes: bool(2), float64(5), int64(6), object(9)\n",
      "memory usage: 5.0+ KB\n"
     ]
    }
   ],
   "source": [
    "dataset_merged.info()"
   ]
  },
  {
   "cell_type": "markdown",
   "metadata": {},
   "source": [
    "Getting the percentage of missing values in each column."
   ]
  },
  {
   "cell_type": "code",
   "execution_count": 11,
   "metadata": {},
   "outputs": [
    {
     "data": {
      "text/plain": [
       "ID                      0.000000\n",
       "Case Number             0.000000\n",
       "Date                    0.000000\n",
       "Block                   0.000000\n",
       "IUCR                    0.000000\n",
       "Primary Type            0.000000\n",
       "Description             0.000000\n",
       "Location Description    0.033333\n",
       "Arrest                  0.000000\n",
       "Domestic                0.000000\n",
       "Beat                    0.000000\n",
       "District                0.033333\n",
       "Ward                    0.000000\n",
       "Community Area          0.000000\n",
       "FBI Code                0.000000\n",
       "X Coordinate            0.333333\n",
       "Y Coordinate            0.333333\n",
       "Year                    0.000000\n",
       "Updated On              0.000000\n",
       "Latitude                0.333333\n",
       "Longitude               0.333333\n",
       "Location                0.333333\n",
       "dtype: float64"
      ]
     },
     "execution_count": 11,
     "metadata": {},
     "output_type": "execute_result"
    }
   ],
   "source": [
    "1 - dataset_merged.count() / len(dataset_merged)"
   ]
  },
  {
   "cell_type": "markdown",
   "metadata": {},
   "source": [
    "Filling with mean if the percentage of missing values is between 0.1 and 0.5. If greater then 0.5, the column will be dropped."
   ]
  },
  {
   "cell_type": "code",
   "execution_count": 12,
   "metadata": {},
   "outputs": [],
   "source": [
    "minimum_missing_value_ratio = 0.1\n",
    "maximum_missing_value_ratio = 0.5\n",
    "columns = [\"X Coordinate\", \"Y Coordinate\"]\n",
    "for i in columns:\n",
    "    if (1 - dataset_merged.loc[:,i].count() / len(dataset_merged))>minimum_missing_value_ratio: \n",
    "        dataset_merged.loc[:,i] = dataset_merged.loc[:,i].fillna(\"mean\")\n",
    "    elif (1 - dataset_merged.loc[:,i].count() / len(dataset_merged))>maximum_missing_value_ratio: \n",
    "        dataset_merged = dataset_merged.drop(i) "
   ]
  },
  {
   "cell_type": "markdown",
   "metadata": {},
   "source": [
    "Checking percentages again"
   ]
  },
  {
   "cell_type": "code",
   "execution_count": 13,
   "metadata": {},
   "outputs": [
    {
     "data": {
      "text/plain": [
       "ID                      0.000000\n",
       "Case Number             0.000000\n",
       "Date                    0.000000\n",
       "Block                   0.000000\n",
       "IUCR                    0.000000\n",
       "Primary Type            0.000000\n",
       "Description             0.000000\n",
       "Location Description    0.033333\n",
       "Arrest                  0.000000\n",
       "Domestic                0.000000\n",
       "Beat                    0.000000\n",
       "District                0.033333\n",
       "Ward                    0.000000\n",
       "Community Area          0.000000\n",
       "FBI Code                0.000000\n",
       "X Coordinate            0.000000\n",
       "Y Coordinate            0.000000\n",
       "Year                    0.000000\n",
       "Updated On              0.000000\n",
       "Latitude                0.333333\n",
       "Longitude               0.333333\n",
       "Location                0.333333\n",
       "dtype: float64"
      ]
     },
     "execution_count": 13,
     "metadata": {},
     "output_type": "execute_result"
    }
   ],
   "source": [
    "1 - dataset_merged.count() / len(dataset_merged)"
   ]
  },
  {
   "cell_type": "code",
   "execution_count": 14,
   "metadata": {},
   "outputs": [],
   "source": [
    "dataset_merged.to_csv(\"data\\crime-merged.csv\")"
   ]
  },
  {
   "cell_type": "code",
   "execution_count": null,
   "metadata": {},
   "outputs": [],
   "source": []
  }
 ],
 "metadata": {
  "kernelspec": {
   "display_name": "Python 3",
   "language": "python",
   "name": "python3"
  },
  "language_info": {
   "codemirror_mode": {
    "name": "ipython",
    "version": 3
   },
   "file_extension": ".py",
   "mimetype": "text/x-python",
   "name": "python",
   "nbconvert_exporter": "python",
   "pygments_lexer": "ipython3",
   "version": "3.7.3"
  }
 },
 "nbformat": 4,
 "nbformat_minor": 4
}
